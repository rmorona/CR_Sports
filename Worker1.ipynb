{
 "cells": [
  {
   "cell_type": "code",
   "execution_count": 1,
   "metadata": {
    "collapsed": true
   },
   "outputs": [],
   "source": [
    "import pandas as pd\n",
    "import numpy as np\n",
    "import math\n",
    "import matplotlib\n",
    "import matplotlib.pyplot as plt\n",
    "import sklearn.metrics as metrics\n",
    "import itertools as itertools\n",
    "from sklearn import ensemble\n",
    "from sklearn.model_selection import cross_val_score\n",
    "from sklearn.neighbors import KNeighborsRegressor\n",
    "from sklearn import tree\n",
    "from copy import deepcopy\n",
    "from sklearn.model_selection import KFold\n",
    "from sklearn.linear_model import LogisticRegression\n",
    "from sklearn.tree import DecisionTreeClassifier\n",
    "from sklearn.ensemble import RandomForestClassifier\n",
    "from bs4 import BeautifulSoup\n",
    "import requests\n",
    "import time"
   ]
  },
  {
   "cell_type": "code",
   "execution_count": 2,
   "metadata": {
    "collapsed": true
   },
   "outputs": [],
   "source": [
    "#function to get all game ids for one team\n",
    "def year_schedule(months, year):\n",
    "    game_ids = []\n",
    "    for m in months:\n",
    "        url1 = \"https://www.basketball-reference.com/leagues/NBA_\"+ year + \"_games-\"\n",
    "        req = requests.get(url1 + m + '.html')\n",
    "        page = req.text\n",
    "        soup = BeautifulSoup(page, 'html.parser')\n",
    "        print(m, year)\n",
    "        div = soup.find('div', {'id': 'div_schedule'})\n",
    "        if div != None:\n",
    "            table = div.find('table', {'id': 'schedule'})\n",
    "            rows = table.find_all('tr')\n",
    "            for row in rows:\n",
    "                center_cells = row.find_all('td', 'center', {'data-stat': 'box_score_text'})\n",
    "                for center_cell in center_cells:\n",
    "                    if center_cell.get_text() == \"Box Score\":\n",
    "                        link = center_cell.find_all('a')[0]\n",
    "                        url = link.get('href')\n",
    "                        game_id = url.split('/')[2]\n",
    "                        game_ids.append(game_id)\n",
    "    return game_ids\n",
    "\n",
    "def to_pbp_url(game_id):\n",
    "    return \"https://www.basketball-reference.com/boxscores/pbp/\" + game_id"
   ]
  },
  {
   "cell_type": "code",
   "execution_count": 3,
   "metadata": {
    "collapsed": true
   },
   "outputs": [],
   "source": [
    "months = ['october', 'november', 'december', 'january', 'february', 'march', 'april', 'may', 'june']"
   ]
  },
  {
   "cell_type": "code",
   "execution_count": null,
   "metadata": {},
   "outputs": [
    {
     "name": "stdout",
     "output_type": "stream",
     "text": [
      "october 2009\n",
      "november 2009\n",
      "december 2009\n",
      "january 2009\n",
      "february 2009\n",
      "march 2009\n",
      "april 2009\n",
      "may 2009\n",
      "june 2009\n",
      "october 2010\n",
      "november 2010\n",
      "december 2010\n",
      "january 2010\n",
      "february 2010\n",
      "march 2010\n",
      "april 2010\n",
      "may 2010\n",
      "june 2010\n",
      "october 2011\n",
      "november 2011\n",
      "december 2011\n",
      "january 2011\n",
      "february 2011\n",
      "march 2011\n",
      "april 2011\n",
      "may 2011\n",
      "june 2011\n",
      "october 2012\n",
      "november 2012\n",
      "december 2012\n",
      "january 2012\n",
      "february 2012\n"
     ]
    }
   ],
   "source": [
    "years = ['2009', '2010', '2011', '2012', '2013', '2016', '2017']\n",
    "schedule = []\n",
    "for year in years:\n",
    "    schedule = schedule + year_schedule(months, year)\n",
    "    time.sleep(2)\n",
    "len(schedule)"
   ]
  },
  {
   "cell_type": "code",
   "execution_count": null,
   "metadata": {
    "collapsed": true
   },
   "outputs": [],
   "source": [
    "schedule1 = [to_pbp_url(x) for x in schedule]"
   ]
  },
  {
   "cell_type": "code",
   "execution_count": null,
   "metadata": {},
   "outputs": [],
   "source": [
    "# populates the dataframe with data scraped\n",
    "dataframes1 = []\n",
    "\n",
    "start = time.time()\n",
    "for url in schedule1[450:600]:\n",
    "    r = requests.get(url)\n",
    "    if r.status_code != 404:\n",
    "        pbp = pd.read_html(url,header=1)[0]\n",
    "        dataframes1.append(pbp)\n",
    "    time.sleep(2)\n",
    "print(time.time() - start)\n",
    "\n",
    "dataframes1[0].head()"
   ]
  },
  {
   "cell_type": "code",
   "execution_count": null,
   "metadata": {
    "collapsed": true
   },
   "outputs": [],
   "source": [
    "# creates test copies of the dataframes for test use below\n",
    "test1 = [i.copy() for i in dataframes1]\n",
    "test2 = [i.copy() for i in dataframes1]\n",
    "test3 = [i.copy() for i in dataframes2]\n",
    "test4 = [i.copy() for i in dataframes2]"
   ]
  },
  {
   "cell_type": "code",
   "execution_count": null,
   "metadata": {
    "collapsed": true
   },
   "outputs": [],
   "source": [
    "# turns time string into an integer measured in seconds\n",
    "def time_to_int(t):\n",
    "    if len(t) > 5:\n",
    "        numbers = t.split(\":\")\n",
    "        seconds = numbers[1].split(\".\")\n",
    "        t_sec = (int(numbers[0])*60) + int(seconds[0])\n",
    "    else:\n",
    "        t_sec = None\n",
    "    return t_sec"
   ]
  },
  {
   "cell_type": "code",
   "execution_count": null,
   "metadata": {
    "collapsed": true
   },
   "outputs": [],
   "source": [
    "#function to clean and format scraped data\n",
    "def format_frames(pbp):\n",
    "    awayteam = pbp.columns[1]\n",
    "    hometeam = pbp.columns[5]\n",
    "    pbp.columns = ['time', 'awayevents','awaypts','score','homepts','homeevents']\n",
    "    pbp['awayteam'] = awayteam\n",
    "    pbp['hometeam'] = hometeam\n",
    "    events = pbp['awayevents']\n",
    "    events = events.fillna(pbp['homeevents'])\n",
    "    pbp['event'] = events\n",
    "    #possession with 1 indicating that the away team is making the play and 0 indicating the opposite\n",
    "    pbp['possession'] = 1-pd.isnull(pbp['awayevents'])\n",
    "    #first need to replace scores at the beginning of games and the rows that just mark the end of quarters \n",
    "    pbp['score'] = pbp['score'].replace(to_replace='Score',method='ffill')\n",
    "    pbp['score'] = pbp['score'].fillna(method='ffill')\n",
    "    pbp['score'] = pbp['score'].fillna(method='bfill')\n",
    "\n",
    "    #then we split these to the away team scores and home team scores\n",
    "    pbp['score'] = [str(x) for x in pbp['score']]\n",
    "    score = [x.split('-') for x in pbp['score']]\n",
    "    awayscore,homescore = np.transpose(np.array(score))\n",
    "    awayscore = [int(x) for x in awayscore]\n",
    "    homescore = [int(x) for x in homescore]\n",
    "    pbp['awayscore'] = awayscore\n",
    "    pbp['homescore'] = homescore\n",
    "\n",
    "    #now drop the redundant variables\n",
    "    pbp = pbp.drop(['awayevents','awaypts','score','homepts','homeevents'], axis=1)\n",
    "    pbp1 = pbp[pd.notnull(pbp['event'])]\n",
    "    #adding quarter to dataframe\n",
    "    quarter = []\n",
    "    count2 = 1\n",
    "    for x, y in zip(pbp1['event'], pbp1['time']):\n",
    "        if 'End of' in x and '0:00.0' in y:\n",
    "            count2 += 1;\n",
    "        quarter.append(count2)\n",
    "\n",
    "    pbp1['quarter'] = quarter\n",
    "    pbp1['time'] = pbp1['time'].apply(time_to_int)\n",
    "    pbp2 = pbp1[pd.notnull(pbp1['time'])]\n",
    "    total_time = []\n",
    "    for x, y in zip(pbp2['quarter'], pbp2['time']):\n",
    "        if y == 0:\n",
    "            time = 720*(x)\n",
    "            if time == 0:\n",
    "                total_time.append(2880)\n",
    "            else:\n",
    "                total_time.append(time)\n",
    "        else:\n",
    "            total_time.append(2880 - ((5-x)*y))\n",
    "    pbp2[\"total_time\"] = total_time\n",
    "    z_count = -1\n",
    "    for time in pbp2['total_time']:\n",
    "        if time == 0:\n",
    "            z_count += 1\n",
    "    pbp2 = pbp2.iloc[z_count:]\n",
    "    away_final = np.max(pbp2['awayscore'])\n",
    "    home_final = np.max(pbp2['homescore'])\n",
    "    if away_final > home_final:\n",
    "        pbp2['win'] = [1 for x in pbp2['possession']]\n",
    "    else: \n",
    "        pbp2['win'] = [0 for x in pbp2['possession']]\n",
    "    return pbp2"
   ]
  },
  {
   "cell_type": "code",
   "execution_count": null,
   "metadata": {
    "collapsed": true
   },
   "outputs": [],
   "source": [
    "formatted_frames = list(map(format_frames, test3))\n",
    "for i, dataframe in enumerate(formatted_frames):\n",
    "    dataframe[\"game_id\"] = i\n",
    "season_df = pd.concat(formatted_frames, ignore_index = True)\n",
    "season_df\n",
    "season_reference = season_df[['game_id', 'time', 'quarter', 'event', 'total_time']].copy()\n",
    "season_reference.head()\n",
    "season_df = season_df.drop(['time', 'event', 'quarter'], axis=1)\n",
    "season_df.head()\n",
    "season_df.to_csv(\"Rosa1_seasons.csv\", sep = ',')\n",
    "season_reference.to_csv(\"Rosa1_season_reference.csv\", sep = ',')"
   ]
  },
  {
   "cell_type": "code",
   "execution_count": null,
   "metadata": {
    "collapsed": true
   },
   "outputs": [],
   "source": []
  }
 ],
 "metadata": {
  "kernelspec": {
   "display_name": "Python 3",
   "language": "python",
   "name": "python3"
  },
  "language_info": {
   "codemirror_mode": {
    "name": "ipython",
    "version": 3
   },
   "file_extension": ".py",
   "mimetype": "text/x-python",
   "name": "python",
   "nbconvert_exporter": "python",
   "pygments_lexer": "ipython3",
   "version": "3.6.1"
  }
 },
 "nbformat": 4,
 "nbformat_minor": 2
}
